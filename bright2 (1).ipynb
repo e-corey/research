{
 "cells": [
  {
   "cell_type": "code",
   "execution_count": 1,
   "id": "7c6c8970-da41-4a18-a0c2-d6e79bcf5f02",
   "metadata": {},
   "outputs": [
    {
     "name": "stdout",
     "output_type": "stream",
     "text": [
      "Filename: BGS_BRIGHT_NGC_clustering.dat.fits\n",
      "No.    Name      Ver    Type      Cards   Dimensions   Format\n",
      "  0  PRIMARY       1 PrimaryHDU       6   ()      \n",
      "  1  LSS           1 BinTableHDU     55   2909876R x 18C   [K, D, K, D, D, 1A, D, D, D, D, D, E, E, E, E, E, D, D]   \n"
     ]
    }
   ],
   "source": [
    "from astropy.io import fits\n",
    "from astropy.table import Table\n",
    "import matplotlib.pyplot as plt\n",
    "\n",
    "## opening the file\n",
    "hdul = fits.open(\"BGS_BRIGHT_NGC_clustering.dat.fits\", memmap = True) ## use memmap as the file is big \n",
    "hdul.info()\n",
    "\n",
    "## stuff in the file\n",
    "data = hdul[1].data \n",
    "## convert the data to a table (could use the .data thingy but making a table makes it easier)\n",
    "data_table = Table(data)\n",
    "hdul.close()"
   ]
  },
  {
   "cell_type": "code",
   "execution_count": 2,
   "id": "466a49b3-90a8-405c-a5d2-414888cd874a",
   "metadata": {},
   "outputs": [],
   "source": [
    "from astropy.coordinates import SkyCoord, search_around_sky, Angle\n",
    "from astropy.cosmology import Planck18\n",
    "import astropy.units as u\n",
    "import numpy as np\n",
    "\n",
    "## identifying possible candidates:\n",
    "\n",
    "## First trying to identify galaxies within a specified cone\n",
    "## radius on either side of candidate galaxy\n",
    "mpc_rad = 1 * u.Mpc\n",
    "part_table = data_table[1:25000]\n",
    "z = part_table['Z']\n",
    "\n",
    "# coordinates of each galaxy using ra and dec\n",
    "ra = part_table['RA']\n",
    "dec = part_table['DEC']\n",
    "coords = SkyCoord(ra=ra*u.deg, dec=dec*u.deg) ## coordinates of each galaxy in the data set\n",
    "d_a = Planck18.angular_diameter_distance(z) ## angular diameter distance\n",
    "\n",
    "theta = Angle((mpc_rad / d_a).value, unit=u.rad) ## defining the angular radius of the cone\n",
    "\n",
    "theta_max = np.max(theta) ## maximum theta from array as search_around_sky cannot take an array for seplimit\n",
    "\n",
    "cand, neigh, sep, _ = search_around_sky(coords, coords, seplimit = theta_max) ## searching for pairs of galaxies within a specific separation limit\n",
    "\n",
    "theta_cut = theta[cand] > sep.to(u.rad)\n",
    "## to make a cut on the redshifts (neighbours must be +/- 0.01 the redshift of the candidates)\n",
    "delta_z = np.abs(z[cand]-z[neigh]) <= 0.01"
   ]
  },
  {
   "cell_type": "code",
   "execution_count": 3,
   "id": "910dc993-2b25-4708-9059-0435d7d49839",
   "metadata": {},
   "outputs": [],
   "source": [
    "## determining luminosity of each galaxy\n",
    "flux_rbandnmgy = part_table['flux_r_dered']\n",
    "app_mags = (22.5 - 2.5 * np.log10(flux_rbandnmgy.value)) * u.mag\n",
    "lum_dists = Planck18.luminosity_distance(z)\n",
    "abs_mags = app_mags.value - (5*np.log10(lum_dists.value/0.00001))\n",
    "magsun_r = 4.64\n",
    "luminosities = 10**(-0.4 * (abs_mags - magsun_r))\n",
    "\n",
    "neigh_lum = luminosities[neigh]\n",
    "cand_lum = luminosities[cand]\n",
    "\n",
    "lum_cut = neigh_lum/cand_lum > 0.1 ## keep neighbours that are more than 0.1 luminosity of the candidate \n",
    "\n",
    "mag_cut = abs_mags[cand] < -17 ## keep candidate galaxies that have a magnitude less than -17"
   ]
  },
  {
   "cell_type": "code",
   "execution_count": 4,
   "id": "0aa242b7-e8ea-4213-8637-01443d3818eb",
   "metadata": {},
   "outputs": [
    {
     "name": "stdout",
     "output_type": "stream",
     "text": [
      "Candidate galaxies: [    1     2     2 ... 24986 24987 24994]\n",
      "Neighbouring galaxies: [    0     0     1 ... 24981 24983 24992]\n"
     ]
    }
   ],
   "source": [
    "self_cut = cand != neigh\n",
    "unique_cut = cand > neigh\n",
    "\n",
    "cut = theta_cut & delta_z & lum_cut & mag_cut & self_cut & unique_cut\n",
    "## cutting a cone around each independent candidate galaxy and ensures that the cone is larger than separation b/w candidate and neighbour\n",
    "\n",
    "cand, neigh, sep = cand[cut], neigh[cut], sep[cut] ## applying the cuts\n",
    "\n",
    "print(f'Candidate galaxies: {cand}')\n",
    "print(f'Neighbouring galaxies: {neigh}')"
   ]
  }
 ],
 "metadata": {
  "kernelspec": {
   "display_name": "anaconda-2024.02-py310",
   "language": "python",
   "name": "conda-env-anaconda-2024.02-py310-py"
  },
  "language_info": {
   "codemirror_mode": {
    "name": "ipython",
    "version": 3
   },
   "file_extension": ".py",
   "mimetype": "text/x-python",
   "name": "python",
   "nbconvert_exporter": "python",
   "pygments_lexer": "ipython3",
   "version": "3.10.14"
  }
 },
 "nbformat": 4,
 "nbformat_minor": 5
}
