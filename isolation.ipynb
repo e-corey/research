{
 "cells": [
  {
   "cell_type": "code",
   "execution_count": 1,
   "id": "a8ef18c5-e146-4bcd-8e26-4154575a1b3d",
   "metadata": {},
   "outputs": [
    {
     "name": "stdout",
     "output_type": "stream",
     "text": [
      "Filename: BGS_BRIGHT_NGC_clustering.dat.fits\n",
      "No.    Name      Ver    Type      Cards   Dimensions   Format\n",
      "  0  PRIMARY       1 PrimaryHDU       6   ()      \n",
      "  1  LSS           1 BinTableHDU     55   2909876R x 18C   [K, D, K, D, D, 1A, D, D, D, D, D, E, E, E, E, E, D, D]   \n"
     ]
    }
   ],
   "source": [
    "from astropy.io import fits\n",
    "from astropy.table import Table\n",
    "import matplotlib.pyplot as plt\n",
    "import healpy as hp\n",
    "from astropy.coordinates import SkyCoord, search_around_sky, Angle\n",
    "from astropy.cosmology import Planck18\n",
    "import astropy.units as u\n",
    "import numpy as np\n",
    "\n",
    "## completeness data\n",
    "data1 = np.loadtxt('bright_completeness.csv', skiprows = 3, delimiter = ',')\n",
    "nside = 128\n",
    "\n",
    "## number of each galaxy and completeness associated with each\n",
    "healpix_number = data1[:,0]\n",
    "completeness = data1[:,1]\n",
    "\n",
    "npix = hp.nside2npix(nside) ## number of pixels\n",
    "\n",
    "## opening the file\n",
    "hdul = fits.open(\"BGS_BRIGHT_NGC_clustering.dat.fits\", memmap = True) ## use memmap as the file is big \n",
    "hdul.info()\n",
    "\n",
    "## stuff in the file\n",
    "data2 = hdul[1].data \n",
    "\n",
    "data_table = Table(data2)\n",
    "hdul.close()"
   ]
  },
  {
   "cell_type": "code",
   "execution_count": 2,
   "id": "2ef5f78c-d1eb-4c98-bac7-1ce4240ba6e3",
   "metadata": {},
   "outputs": [],
   "source": [
    "## need to get the ra and dec of each galaxy \n",
    "ra = data_table['RA']\n",
    "dec = data_table['DEC']\n",
    "\n",
    "ra_rad = np.deg2rad(ra) ## convert to radians\n",
    "dec_rad = np.deg2rad(dec)\n",
    "\n",
    "theta = 0.5 * np.pi - dec_rad  ## healpix uses theta and phi, not ra and dec\n",
    "phi = ra_rad\n",
    "\n",
    "healpix_index = hp.ang2pix(nside, theta, phi) ## generating healpix indices for each galaxy\n",
    "\n",
    "## making a completeness map array where you index at the healpix number of a galaxy and then it returns the completeness of said galaxy\n",
    "comp_map = np.zeros(npix) ## making an array of just zeroes the size of the healpix map\n",
    "comp_map[healpix_number.astype(int)] = completeness ## filling map with the completenesses\n",
    "\n",
    "comp_cut = comp_map[healpix_index] >= 0.8 ## completenesses of each galaxy in the fits file must be at least 0.8\n",
    "\n",
    "complete_data = data_table[comp_cut] ## now table only includes samples that are at least 80% complete"
   ]
  },
  {
   "cell_type": "code",
   "execution_count": 3,
   "id": "75f6b6a9-16ff-4ae4-888a-aa65e8836577",
   "metadata": {},
   "outputs": [],
   "source": [
    "## now use new filtered data and use astropy\n",
    "mpc_rad = 1 * u.Mpc\n",
    "#part_table = complete_data[1:25000]\n",
    "z = complete_data['Z']\n",
    "\n",
    "# coordinates of each galaxy using ra and dec\n",
    "ra = complete_data['RA']\n",
    "dec = complete_data['DEC']\n",
    "coords2 = SkyCoord(ra=ra*u.deg, dec=dec*u.deg) ## coordinates of each galaxy in the data set\n",
    "d_a = Planck18.angular_diameter_distance(z) ## angular diameter distance\n",
    "\n",
    "theta = Angle((mpc_rad / d_a).value, unit=u.rad) ## defining the angular radius of the cone\n",
    "\n",
    "coords1 = []\n",
    "all_cand = []\n",
    "all_neigh = []\n",
    "all_sep = []\n",
    "chunk = 25000\n",
    "\n",
    "for start in range(0, len(coords2), chunk):\n",
    "    end = start + chunk\n",
    "    coords1 = coords2[start:end]\n",
    "    cand, neigh, sep, _ = search_around_sky(coords1, coords2, seplimit = theta[start:end], storekdtree = True) ## searching for pairs of galaxies within a specific separation limit\n",
    "\n",
    "    cand += start\n",
    "    \n",
    "    all_cand.append(cand)\n",
    "    all_neigh.append(neigh)\n",
    "    all_sep.append(sep)\n",
    "\n",
    "cand = np.concatenate(all_cand)\n",
    "neigh = np.concatenate(all_neigh)\n",
    "sep = np.concatenate(all_sep)\n",
    "\n",
    "theta_cut = theta[cand] > sep.to(u.rad)\n",
    "\n",
    "## to make a cut on the redshifts (neighbours must be +/- 0.01 the redshift of the candidates)\n",
    "delta_z = np.abs(z[cand]-z[neigh]) <= 0.01"
   ]
  },
  {
   "cell_type": "code",
   "execution_count": 4,
   "id": "a912277c-1480-4836-a399-180fe36d0d1b",
   "metadata": {},
   "outputs": [],
   "source": [
    "## determining luminosity of each galaxy\n",
    "flux_rbandnmgy = complete_data['flux_r_dered']\n",
    "app_mags = (22.5 - 2.5 * np.log10(flux_rbandnmgy.value)) * u.mag\n",
    "lum_dists = Planck18.luminosity_distance(z)\n",
    "abs_mags = app_mags.value - (5*np.log10(lum_dists.value/0.00001))\n",
    "magsun_r = 4.64\n",
    "luminosities = 10**(-0.4 * (abs_mags - magsun_r))\n",
    "\n",
    "neigh_lum = luminosities[neigh]\n",
    "cand_lum = luminosities[cand]\n",
    "\n",
    "lum_cut = neigh_lum/cand_lum > 0.1 ## keep neighbours that are more than 0.1 luminosity of the candidate \n",
    "\n",
    "mag_cut = abs_mags[cand] < -17 ## keep candidate galaxies that have a magnitude less than -17"
   ]
  },
  {
   "cell_type": "code",
   "execution_count": 5,
   "id": "772a43ce-a3cc-42b3-a9d6-d4d566c9a330",
   "metadata": {},
   "outputs": [
    {
     "name": "stdout",
     "output_type": "stream",
     "text": [
      "Candidate galaxies: [      2       3       3 ... 1481271 1481272 1481272]\n",
      "Neighbouring galaxies: [      1       1       2 ... 1481268 1481268 1481271]\n"
     ]
    }
   ],
   "source": [
    "self_cut = cand != neigh\n",
    "unique_cut = cand > neigh\n",
    "\n",
    "cut = theta_cut & delta_z & lum_cut & mag_cut & self_cut & unique_cut\n",
    "## cutting a cone around each independent candidate galaxy and ensures that the cone is larger than separation b/w candidate and neighbour\n",
    "\n",
    "cand, neigh, sep = cand[cut], neigh[cut], sep[cut] ## applying the cuts\n",
    "\n",
    "print(f'Candidate galaxies: {cand}')\n",
    "print(f'Neighbouring galaxies: {neigh}')"
   ]
  }
 ],
 "metadata": {
  "kernelspec": {
   "display_name": "Python 3 (ipykernel)",
   "language": "python",
   "name": "python3"
  },
  "language_info": {
   "codemirror_mode": {
    "name": "ipython",
    "version": 3
   },
   "file_extension": ".py",
   "mimetype": "text/x-python",
   "name": "python",
   "nbconvert_exporter": "python",
   "pygments_lexer": "ipython3",
   "version": "3.13.7"
  }
 },
 "nbformat": 4,
 "nbformat_minor": 5
}
